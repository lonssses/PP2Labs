{
 "cells": [
  {
   "cell_type": "code",
   "execution_count": 2,
   "id": "d5aba64a-972b-4b49-8133-94177c62e174",
   "metadata": {},
   "outputs": [
    {
     "name": "stdin",
     "output_type": "stream",
     "text": [
      "Enter N:  5\n"
     ]
    },
    {
     "name": "stdout",
     "output_type": "stream",
     "text": [
      "1\n",
      "4\n",
      "9\n",
      "16\n",
      "25\n"
     ]
    }
   ],
   "source": [
    "def getSquares(n):\n",
    "    for i in range(1, n + 1):\n",
    "        yield pow(i, 2)\n",
    "\n",
    "n = int(input(\"Enter N: \"))\n",
    "for i in getSquares(n):\n",
    "    print(i)"
   ]
  },
  {
   "cell_type": "code",
   "execution_count": 4,
   "id": "34a8576c-150f-4ee2-9747-4bcdb38e106e",
   "metadata": {},
   "outputs": [
    {
     "name": "stdin",
     "output_type": "stream",
     "text": [
      "Enter n:  4\n"
     ]
    },
    {
     "name": "stdout",
     "output_type": "stream",
     "text": [
      "0, 2, 4\n"
     ]
    }
   ],
   "source": [
    "def getEven(n):\n",
    "    for i in range(0, n + 1):\n",
    "        if i % 2 == 0:\n",
    "            yield i\n",
    "        continue\n",
    "\n",
    "\n",
    "n = int(input(\"Enter n: \"))\n",
    "for san in getEven(n):\n",
    "    if san == n or san - 1 == n:\n",
    "        print(san)\n",
    "    else:\n",
    "        print(san, end=\", \")"
   ]
  },
  {
   "cell_type": "code",
   "execution_count": 12,
   "id": "00f09e52-3da6-450f-9a22-0f34a797bfbb",
   "metadata": {},
   "outputs": [
    {
     "name": "stdin",
     "output_type": "stream",
     "text": [
      "Enter n:  544\n"
     ]
    },
    {
     "name": "stdout",
     "output_type": "stream",
     "text": [
      "0\n",
      "12\n",
      "24\n",
      "36\n",
      "48\n",
      "60\n",
      "72\n",
      "84\n",
      "96\n",
      "108\n",
      "120\n",
      "132\n",
      "144\n",
      "156\n",
      "168\n",
      "180\n",
      "192\n",
      "204\n",
      "216\n",
      "228\n",
      "240\n",
      "252\n",
      "264\n",
      "276\n",
      "288\n",
      "300\n",
      "312\n",
      "324\n",
      "336\n",
      "348\n",
      "360\n",
      "372\n",
      "384\n",
      "396\n",
      "408\n",
      "420\n",
      "432\n",
      "444\n",
      "456\n",
      "468\n",
      "480\n",
      "492\n",
      "504\n",
      "516\n",
      "528\n",
      "540\n"
     ]
    }
   ],
   "source": [
    "def getDiv3_and_4(n):\n",
    "    for i in range(n + 1):\n",
    "        if i % 3 == 0 and i % 4 == 0:\n",
    "            yield i\n",
    "        continue\n",
    "\n",
    "\n",
    "n = int(input(\"Enter n: \"))\n",
    "for i in getDiv3_and_4(n):\n",
    "    print(i)"
   ]
  },
  {
   "cell_type": "code",
   "execution_count": 18,
   "id": "690ff0d7-8570-43d4-a65d-14eee61618dc",
   "metadata": {},
   "outputs": [
    {
     "name": "stdin",
     "output_type": "stream",
     "text": [
      " 4 5\n"
     ]
    },
    {
     "name": "stdout",
     "output_type": "stream",
     "text": [
      "16\n",
      "25\n"
     ]
    }
   ],
   "source": [
    "def squares(a, b):\n",
    "    for i in range(a, b + 1):\n",
    "        yield pow(i, 2)\n",
    "\n",
    "\n",
    "a, b = map(int, input().split())  # [1, 2]\n",
    "for i in squares(a, b):\n",
    "    print(i)"
   ]
  },
  {
   "cell_type": "code",
   "execution_count": 20,
   "id": "0442bd65-725b-467b-8bcd-4a1dcffdb9ad",
   "metadata": {},
   "outputs": [
    {
     "name": "stdin",
     "output_type": "stream",
     "text": [
      "Enter n:  4\n"
     ]
    },
    {
     "name": "stdout",
     "output_type": "stream",
     "text": [
      "4\n",
      "3\n",
      "2\n",
      "1\n",
      "0\n"
     ]
    }
   ],
   "source": [
    "def getNumbers(n):\n",
    "    for i in range(n, -1, -1):\n",
    "        yield i\n",
    "\n",
    "\n",
    "n = int(input(\"Enter n: \"))\n",
    "for i in getNumbers(n):\n",
    "    print(i)"
   ]
  },
  {
   "cell_type": "code",
   "execution_count": null,
   "id": "03f0248a-cdea-415c-bed2-4c7e225d4e1e",
   "metadata": {},
   "outputs": [],
   "source": []
  }
 ],
 "metadata": {
  "kernelspec": {
   "display_name": "Python [conda env:base] *",
   "language": "python",
   "name": "conda-base-py"
  },
  "language_info": {
   "codemirror_mode": {
    "name": "ipython",
    "version": 3
   },
   "file_extension": ".py",
   "mimetype": "text/x-python",
   "name": "python",
   "nbconvert_exporter": "python",
   "pygments_lexer": "ipython3",
   "version": "3.12.7"
  }
 },
 "nbformat": 4,
 "nbformat_minor": 5
}
