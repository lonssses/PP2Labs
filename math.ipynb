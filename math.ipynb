{
 "cells": [
  {
   "cell_type": "code",
   "execution_count": 2,
   "id": "4523e344-4936-432c-b0b4-70ed4afefe87",
   "metadata": {},
   "outputs": [
    {
     "name": "stdin",
     "output_type": "stream",
     "text": [
      "input degree: 5\n"
     ]
    },
    {
     "name": "stdout",
     "output_type": "stream",
     "text": [
      "Output radian:0.08726646259971647\n"
     ]
    }
   ],
   "source": [
    "import math\n",
    "\n",
    "degree=int(input(\"input degree:\"))\n",
    "rad=degree*math.pi/180\n",
    "print(f\"Output radian:{rad}\")"
   ]
  },
  {
   "cell_type": "code",
   "execution_count": 4,
   "id": "a9acc7ff-b202-4d42-8cf2-549cf9892dbf",
   "metadata": {},
   "outputs": [
    {
     "name": "stdin",
     "output_type": "stream",
     "text": [
      "Height: 6\n",
      "Base,first value: 4\n",
      "Base,second value: 2\n"
     ]
    },
    {
     "name": "stdout",
     "output_type": "stream",
     "text": [
      "18.0\n"
     ]
    }
   ],
   "source": [
    "h=int(input(\"Height:\"))\n",
    "a=int(input(\"Base,first value:\"))\n",
    "b=int(input(\"Base,second value:\"))\n",
    "s=(a+b)/2*h\n",
    "print(s)"
   ]
  },
  {
   "cell_type": "code",
   "execution_count": 6,
   "id": "c575c933-ec8f-4381-b785-b32fcd738e62",
   "metadata": {},
   "outputs": [
    {
     "name": "stdin",
     "output_type": "stream",
     "text": [
      "Input number of sides: 5\n",
      "Input the lenght of a side: 5\n"
     ]
    },
    {
     "name": "stdout",
     "output_type": "stream",
     "text": [
      "The area of the polygon is: 43.01193501472418\n"
     ]
    }
   ],
   "source": [
    "import math\n",
    "n=int(input(\"Input number of sides:\"))\n",
    "s=int(input(\"Input the lenght of a side:\"))\n",
    "\n",
    "area = (n * s**2) / (4 * math.tan(math.pi / n))\n",
    "\n",
    "\n",
    "\n",
    "\n",
    "print(f\"The area of the polygon is: {area}\")"
   ]
  },
  {
   "cell_type": "code",
   "execution_count": 8,
   "id": "334fbb98-3bd7-42ba-b684-3c7774ab080d",
   "metadata": {},
   "outputs": [
    {
     "name": "stdin",
     "output_type": "stream",
     "text": [
      "Lenght of base: 5\n",
      "Height of parallelogram: 6\n"
     ]
    },
    {
     "name": "stdout",
     "output_type": "stream",
     "text": [
      "30\n"
     ]
    }
   ],
   "source": [
    "\n",
    "a=int(input(\"Lenght of base:\"))\n",
    "b=int(input(\"Height of parallelogram:\"))\n",
    "s=a*b\n",
    "print(s)"
   ]
  },
  {
   "cell_type": "code",
   "execution_count": null,
   "id": "7154bbb8-af27-4664-84ce-629a2f5d2773",
   "metadata": {},
   "outputs": [],
   "source": []
  }
 ],
 "metadata": {
  "kernelspec": {
   "display_name": "Python [conda env:base] *",
   "language": "python",
   "name": "conda-base-py"
  },
  "language_info": {
   "codemirror_mode": {
    "name": "ipython",
    "version": 3
   },
   "file_extension": ".py",
   "mimetype": "text/x-python",
   "name": "python",
   "nbconvert_exporter": "python",
   "pygments_lexer": "ipython3",
   "version": "3.12.7"
  }
 },
 "nbformat": 4,
 "nbformat_minor": 5
}
