{
 "cells": [
  {
   "cell_type": "code",
   "execution_count": 2,
   "id": "e8068cb8-cc4b-45a6-9875-9eecfef7844e",
   "metadata": {},
   "outputs": [
    {
     "name": "stdout",
     "output_type": "stream",
     "text": [
      "2025-02-08 03:46:02.385502\n"
     ]
    }
   ],
   "source": [
    "\n",
    "from datetime import timedelta, datetime\n",
    "\n",
    "today=datetime.now()\n",
    "fivedays=timedelta(days=5)\n",
    "print(today-fivedays)"
   ]
  },
  {
   "cell_type": "code",
   "execution_count": 4,
   "id": "6621090b-e16a-46f8-a920-b8471ad1ff72",
   "metadata": {},
   "outputs": [
    {
     "name": "stdout",
     "output_type": "stream",
     "text": [
      "Yesterday:2025-02-12 03:46:14.896241\n",
      "Today:2025-02-13 03:46:14.896241\n",
      "Tomorrow2025-02-14 03:46:14.896241\n"
     ]
    }
   ],
   "source": [
    "from datetime import timedelta,datetime\n",
    "\n",
    "today=datetime.today()\n",
    "yesterday=today-timedelta(1)\n",
    "tomorrow=today+timedelta(1)\n",
    "print(f\"Yesterday:{yesterday}\")\n",
    "print(f\"Today:{today}\")\n",
    "print(f\"Tomorrow{tomorrow}\")"
   ]
  },
  {
   "cell_type": "code",
   "execution_count": 6,
   "id": "7e516020-8c60-4326-895d-b4151be44410",
   "metadata": {},
   "outputs": [
    {
     "name": "stdout",
     "output_type": "stream",
     "text": [
      "Datetime without microseconds: 2025-02-13 03:46:28\n"
     ]
    }
   ],
   "source": [
    "from datetime import datetime\n",
    "\n",
    "\n",
    "now = datetime.now().replace(microsecond=0)\n",
    "print(\"Datetime without microseconds:\", now)"
   ]
  },
  {
   "cell_type": "code",
   "execution_count": 8,
   "id": "8363b07d-1abb-4ce7-9374-bd4e1f10f949",
   "metadata": {},
   "outputs": [
    {
     "name": "stdout",
     "output_type": "stream",
     "text": [
      "Difference between 2025-02-01 12:00:00 and 2025-02-10 14:30:00 is 786600.0 seconds\n"
     ]
    }
   ],
   "source": [
    "from datetime import datetime\n",
    "\n",
    "date1 = datetime(2025, 2, 1, 12, 0, 0)\n",
    "date2 = datetime(2025, 2, 10, 14, 30, 0)\n",
    "difference = (date2 - date1).total_seconds()\n",
    "print(f\"Difference between {date1} and {date2} is {difference} seconds\")"
   ]
  },
  {
   "cell_type": "code",
   "execution_count": null,
   "id": "0643ab48-16b0-4be4-9268-60e6b6b905c6",
   "metadata": {},
   "outputs": [],
   "source": []
  }
 ],
 "metadata": {
  "kernelspec": {
   "display_name": "Python [conda env:base] *",
   "language": "python",
   "name": "conda-base-py"
  },
  "language_info": {
   "codemirror_mode": {
    "name": "ipython",
    "version": 3
   },
   "file_extension": ".py",
   "mimetype": "text/x-python",
   "name": "python",
   "nbconvert_exporter": "python",
   "pygments_lexer": "ipython3",
   "version": "3.12.7"
  }
 },
 "nbformat": 4,
 "nbformat_minor": 5
}
