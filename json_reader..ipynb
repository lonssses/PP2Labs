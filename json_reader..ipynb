{
 "cells": [
  {
   "cell_type": "code",
   "execution_count": 11,
   "id": "3f41f72a-4a9c-4ba3-ba46-04c8e60d19fe",
   "metadata": {},
   "outputs": [
    {
     "data": {
      "text/plain": [
       "{'imdata': [{'l1PhysIf': {'attributes': {'dn': 'eth1/1',\n",
       "     'descr': 'Uplink',\n",
       "     'speed': '1000',\n",
       "     'mtu': '1500'}}},\n",
       "  {'l1PhysIf': {'attributes': {'dn': 'eth1/2',\n",
       "     'descr': 'Server',\n",
       "     'speed': '10000',\n",
       "     'mtu': '9000'}}}]}"
      ]
     },
     "execution_count": 11,
     "metadata": {},
     "output_type": "execute_result"
    }
   ],
   "source": [
    "{\n",
    "  \"imdata\": [\n",
    "    {\n",
    "      \"l1PhysIf\": {\n",
    "        \"attributes\": {\n",
    "          \"dn\": \"eth1/1\",\n",
    "          \"descr\": \"Uplink\",\n",
    "          \"speed\": \"1000\",\n",
    "          \"mtu\": \"1500\"\n",
    "        }\n",
    "      }\n",
    "    },\n",
    "    {\n",
    "      \"l1PhysIf\": {\n",
    "        \"attributes\": {\n",
    "          \"dn\": \"eth1/2\",\n",
    "          \"descr\": \"Server\",\n",
    "          \"speed\": \"10000\",\n",
    "          \"mtu\": \"9000\"\n",
    "        }\n",
    "      }\n",
    "    }\n",
    "  ]\n",
    "}\n"
   ]
  },
  {
   "cell_type": "code",
   "execution_count": null,
   "id": "09988627-5f90-4336-a347-c3332073fe0f",
   "metadata": {},
   "outputs": [],
   "source": []
  },
  {
   "cell_type": "code",
   "execution_count": null,
   "id": "73f98227-abe3-4b74-9616-9c54c1a4f2ca",
   "metadata": {},
   "outputs": [],
   "source": []
  }
 ],
 "metadata": {
  "kernelspec": {
   "display_name": "Python [conda env:base] *",
   "language": "python",
   "name": "conda-base-py"
  },
  "language_info": {
   "codemirror_mode": {
    "name": "ipython",
    "version": 3
   },
   "file_extension": ".py",
   "mimetype": "text/x-python",
   "name": "python",
   "nbconvert_exporter": "python",
   "pygments_lexer": "ipython3",
   "version": "3.12.7"
  }
 },
 "nbformat": 4,
 "nbformat_minor": 5
}
