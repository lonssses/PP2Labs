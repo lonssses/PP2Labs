{
 "cells": [
  {
   "cell_type": "code",
   "execution_count": 2,
   "id": "7c25940f-70c7-459f-94d5-f82287799a48",
   "metadata": {},
   "outputs": [
    {
     "name": "stdout",
     "output_type": "stream",
     "text": [
      "'a': True\n",
      "'ab': True\n",
      "'abb': True\n",
      "'abbb': True\n",
      "'b': False\n",
      "'ba': False\n",
      "'abc': False\n"
     ]
    }
   ],
   "source": [
    "import re\n",
    "\n",
    "def match_string(s):\n",
    "    pattern = r\"ab*\"\n",
    "\n",
    "    if re.fullmatch(pattern, s):\n",
    "        return True\n",
    "    else:\n",
    "        return False\n",
    "\n",
    "test_strings = [\"a\", \"ab\", \"abb\", \"abbb\", \"b\", \"ba\", \"abc\"]\n",
    "for i in test_strings:\n",
    "    print(f\"'{i}': {match_string(i)}\")\n",
    "    "
   ]
  },
  {
   "cell_type": "code",
   "execution_count": 4,
   "id": "9e615bd7-6c27-4802-8028-28c1d3885b98",
   "metadata": {},
   "outputs": [
    {
     "name": "stdout",
     "output_type": "stream",
     "text": [
      "'a': False\n",
      "'aabbbb': True\n",
      "'abb': True\n",
      "'sabbb': True\n",
      "'b': False\n",
      "'ba': False\n",
      "'abbc': True\n"
     ]
    }
   ],
   "source": [
    "import re\n",
    "\n",
    "def match_string(s):\n",
    "    pattern = r\"ab{2,3}\"\n",
    "    if re.search(pattern, s):\n",
    "        return True\n",
    "    else:\n",
    "        return False\n",
    "\n",
    "test_strings = [\"a\", \"aabbbb\", \"abb\", \"sabbb\", \"b\", \"ba\", \"abbc\"]\n",
    "\n",
    "for s in test_strings:\n",
    "    print(f\"'{s}': {match_string(s)}\")"
   ]
  },
  {
   "cell_type": "code",
   "execution_count": 6,
   "id": "be538640-49d9-4828-8992-002744451266",
   "metadata": {},
   "outputs": [
    {
     "name": "stdout",
     "output_type": "stream",
     "text": [
      "'arbhlwfge_dfknvser': True\n",
      "'awduibdcvA_sjrb': False\n",
      "'auierf_Auierv': False\n",
      "'Ayvjkasdc_Aiufv': False\n",
      "'uerbher9_ae4rgas': False\n",
      "'erfaer': False\n"
     ]
    }
   ],
   "source": [
    "import re\n",
    "\n",
    "def check(s):\n",
    "    pattern = r\"[a-z]+_[a-z]+\"\n",
    "    if re.search(pattern, s):\n",
    "        return True\n",
    "    else:\n",
    "        return False\n",
    "\n",
    "test_strings = [\"arbhlwfge_dfknvser\", \"awduibdcvA_sjrb\", \"auierf_Auierv\", \"Ayvjkasdc_Aiufv\", \"uerbher9_ae4rgas\", \"erfaer\"]\n",
    "\n",
    "for s in test_strings:\n",
    "    print(f\"'{s}': {check(s)}\")"
   ]
  },
  {
   "cell_type": "code",
   "execution_count": 8,
   "id": "15e1c9ed-d9fb-4f4d-be47-2fd4f6e2f92c",
   "metadata": {},
   "outputs": [
    {
     "name": "stdout",
     "output_type": "stream",
     "text": [
      "'arbhlwfge_dfknvser': False\n",
      "'awduibdcvA_sjrb': False\n",
      "'auierf_Auierv': True\n",
      "'Ayvjkasdc_Aiufv': True\n",
      "'uerbher9_ae4rgas': False\n",
      "'erfaer': False\n"
     ]
    }
   ],
   "source": [
    "import re\n",
    "\n",
    "def check(s):\n",
    "    pattern = r\"[A-Z][a-z]+\"\n",
    "    if re.search(pattern, s):\n",
    "        return True\n",
    "    else:\n",
    "        return False\n",
    "\n",
    "test_strings = [\"arbhlwfge_dfknvser\", \"awduibdcvA_sjrb\", \"auierf_Auierv\", \"Ayvjkasdc_Aiufv\", \"uerbher9_ae4rgas\", \"erfaer\"]\n",
    "\n",
    "for s in test_strings:\n",
    "    print(f\"'{s}': {check(s)}\")"
   ]
  },
  {
   "cell_type": "code",
   "execution_count": 10,
   "id": "44a91eb5-df3b-4226-a068-712c7a79d73c",
   "metadata": {},
   "outputs": [
    {
     "name": "stdout",
     "output_type": "stream",
     "text": [
      "'asdfcastbdf': False\n",
      "'fgryfatcyjb': True\n"
     ]
    }
   ],
   "source": [
    "import re\n",
    "\n",
    "def check(s):\n",
    "    pattern = r\"a[a-z]+b$\"\n",
    "    if re.search(pattern, s):\n",
    "        return True\n",
    "    else:\n",
    "        return False\n",
    "\n",
    "test_strings = [\"asdfcastbdf\", \"fgryfatcyjb\"]\n",
    "\n",
    "for s in test_strings:\n",
    "    print(f\"'{s}': {check(s)}\")"
   ]
  },
  {
   "cell_type": "code",
   "execution_count": 12,
   "id": "ed5ac2e6-fed5-4a65-bcf8-e3043b4e9ed6",
   "metadata": {},
   "outputs": [
    {
     "name": "stdout",
     "output_type": "stream",
     "text": [
      "John's:email:is:john:doe@example:com:Hello:John\n"
     ]
    }
   ],
   "source": [
    "import re\n",
    "\n",
    "text_to_match = \"\"\"John's email is john.doe@example.com Hello John\"\"\"\n",
    "\n",
    "pattern = r\"[ ,.]\"\n",
    "result = re.sub(pattern, \":\" ,text_to_match) \n",
    "print(result)"
   ]
  },
  {
   "cell_type": "code",
   "execution_count": 14,
   "id": "bdf31082-bb15-423c-9d98-fcc74cfc20e6",
   "metadata": {},
   "outputs": [
    {
     "name": "stdin",
     "output_type": "stream",
     "text": [
      " some__long___variable___name\n"
     ]
    },
    {
     "name": "stdout",
     "output_type": "stream",
     "text": [
      "someLongVariableName\n"
     ]
    }
   ],
   "source": [
    "import re\n",
    "\n",
    "def reg():\n",
    "    user_input = input()\n",
    "    new = re.sub(r'[_]+', ' ', user_input)\n",
    "    spl = new.split()\n",
    "    if not spl:\n",
    "        print(\"\")\n",
    "        return\n",
    "    new_verb = spl[0].lower() + ''.join(word.capitalize() for word in spl[1:])\n",
    "    print(new_verb)\n",
    "\n",
    "reg()"
   ]
  },
  {
   "cell_type": "code",
   "execution_count": 18,
   "id": "d6a35dee-ff3f-426f-856b-55d269d8eec5",
   "metadata": {},
   "outputs": [
    {
     "name": "stdin",
     "output_type": "stream",
     "text": [
      " PascalCase\n"
     ]
    },
    {
     "name": "stdout",
     "output_type": "stream",
     "text": [
      "['', 'Pascal', 'Case']\n"
     ]
    }
   ],
   "source": [
    "import re\n",
    "def reg():\n",
    "    user_input = input()\n",
    "    parts = re.split(r'(?=[A-Z])', user_input)\n",
    "    print(parts)\n",
    "reg()"
   ]
  },
  {
   "cell_type": "code",
   "execution_count": 20,
   "id": "f0dd9823-63c7-4a52-a6dd-1b1b1e7ca758",
   "metadata": {},
   "outputs": [
    {
     "name": "stdin",
     "output_type": "stream",
     "text": [
      " my variable name\n"
     ]
    },
    {
     "name": "stdout",
     "output_type": "stream",
     "text": [
      "myVariableName\n"
     ]
    }
   ],
   "source": [
    "import re\n",
    "\n",
    "def reg():\n",
    "    user_input = input()\n",
    "    spl = user_input.split()\n",
    "    if not spl:\n",
    "        print(\"\")\n",
    "        return\n",
    "    new_verb = spl[0].lower() + ''.join(word.capitalize() for word in spl[1:])\n",
    "    print(new_verb)\n",
    "\n",
    "reg()"
   ]
  },
  {
   "cell_type": "code",
   "execution_count": 22,
   "id": "c22b19b4-1310-4679-b658-888e7faa271b",
   "metadata": {},
   "outputs": [
    {
     "name": "stdin",
     "output_type": "stream",
     "text": [
      " PascalCase\n"
     ]
    },
    {
     "name": "stdout",
     "output_type": "stream",
     "text": [
      "pascal_case\n"
     ]
    }
   ],
   "source": [
    "import re\n",
    "\n",
    "def reg():\n",
    "    user_input = input(\"Введите camelCase строку: \")\n",
    "    snake = re.sub(r'(?<!^)(?=[A-Z])', '_', user_input).lower()\n",
    "    print(snake)\n",
    "\n",
    "reg()"
   ]
  },
  {
   "cell_type": "code",
   "execution_count": null,
   "id": "348aeaa7-29de-4662-ba3a-1637627b4212",
   "metadata": {},
   "outputs": [],
   "source": []
  }
 ],
 "metadata": {
  "kernelspec": {
   "display_name": "Python [conda env:base] *",
   "language": "python",
   "name": "conda-base-py"
  },
  "language_info": {
   "codemirror_mode": {
    "name": "ipython",
    "version": 3
   },
   "file_extension": ".py",
   "mimetype": "text/x-python",
   "name": "python",
   "nbconvert_exporter": "python",
   "pygments_lexer": "ipython3",
   "version": "3.12.7"
  }
 },
 "nbformat": 4,
 "nbformat_minor": 5
}
